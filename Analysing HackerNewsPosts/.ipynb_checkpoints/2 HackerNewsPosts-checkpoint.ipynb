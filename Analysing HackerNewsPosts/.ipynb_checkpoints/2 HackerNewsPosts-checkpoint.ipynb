{
 "cells": [
  {
   "cell_type": "markdown",
   "metadata": {},
   "source": [
    "# Explore HackerNews Community Posts\n",
    "\n",
    "## This project is to analyse the comments made to this website\n",
    "\n",
    "\n",
    "- We want to know if \"AskHN\" or \"ShowHN\" kind of posts receive more comments than others. (AskHN is used to ask HN community technology specific questions and ShowHN is used to show the technical work of users to HN community)\n",
    "- We also want to know if posts created at certain time receive more comments on an average.\n",
    "\n",
    "\n",
    "\n",
    "- Hacker News Website [Link](https://news.ycombinator.com/) \n",
    "- Dataset is downloaded from Kaggle [Link](https://www.kaggle.com/hacker-news/hacker-news-posts)"
   ]
  },
  {
   "cell_type": "code",
   "execution_count": 1,
   "metadata": {},
   "outputs": [],
   "source": [
    "open_file = open(\"hacker_news.csv\",encoding=\"Latin-1\")\n",
    "from csv import reader\n",
    "read_file = reader(open_file)\n",
    "hn = list(read_file)\n",
    "hn_header = hn[0]\n",
    "hn = hn[1:]\n"
   ]
  },
  {
   "cell_type": "code",
   "execution_count": 2,
   "metadata": {},
   "outputs": [
    {
     "data": {
      "text/plain": [
       "[['12224879',\n",
       "  'Interactive Dynamic Video',\n",
       "  'http://www.interactivedynamicvideo.com/',\n",
       "  '386',\n",
       "  '52',\n",
       "  'ne0phyte',\n",
       "  '8/4/2016 11:52'],\n",
       " ['10975351',\n",
       "  'How to Use Open Source and Shut the Fuck Up at the Same Time',\n",
       "  'http://hueniverse.com/2016/01/26/how-to-use-open-source-and-shut-the-fuck-up-at-the-same-time/',\n",
       "  '39',\n",
       "  '10',\n",
       "  'josep2',\n",
       "  '1/26/2016 19:30'],\n",
       " ['11964716',\n",
       "  \"Florida DJs May Face Felony for April Fools' Water Joke\",\n",
       "  'http://www.thewire.com/entertainment/2013/04/florida-djs-april-fools-water-joke/63798/',\n",
       "  '2',\n",
       "  '1',\n",
       "  'vezycash',\n",
       "  '6/23/2016 22:20'],\n",
       " ['11919867',\n",
       "  'Technology ventures: From Idea to Enterprise',\n",
       "  'https://www.amazon.com/Technology-Ventures-Enterprise-Thomas-Byers/dp/0073523429',\n",
       "  '3',\n",
       "  '1',\n",
       "  'hswarna',\n",
       "  '6/17/2016 0:01'],\n",
       " ['10301696',\n",
       "  'Note by Note: The Making of Steinway L1037 (2007)',\n",
       "  'http://www.nytimes.com/2007/11/07/movies/07stein.html?_r=0',\n",
       "  '8',\n",
       "  '2',\n",
       "  'walterbell',\n",
       "  '9/30/2015 4:12']]"
      ]
     },
     "execution_count": 2,
     "metadata": {},
     "output_type": "execute_result"
    }
   ],
   "source": [
    "hn[:5]"
   ]
  },
  {
   "cell_type": "code",
   "execution_count": 11,
   "metadata": {},
   "outputs": [],
   "source": [
    "ask_posts   = []\n",
    "show_posts  = []\n",
    "other_posts = []\n",
    "\n",
    "for row in hn:\n",
    "    title = row[1]\n",
    "    if title.lower().startswith(\"ask hn\"):\n",
    "        ask_posts.append(row)\n",
    "    elif title.lower().startswith(\"show hn\"):\n",
    "        show_posts.append(row)\n",
    "    else :\n",
    "        other_posts.append(row)\n",
    "\n"
   ]
  },
  {
   "cell_type": "code",
   "execution_count": 12,
   "metadata": {},
   "outputs": [
    {
     "name": "stdout",
     "output_type": "stream",
     "text": [
      "1744\n",
      "1162\n",
      "17194\n"
     ]
    }
   ],
   "source": [
    "print(len(ask_posts))\n",
    "print(len(show_posts))\n",
    "print(len(other_posts))"
   ]
  },
  {
   "cell_type": "code",
   "execution_count": 13,
   "metadata": {},
   "outputs": [],
   "source": [
    "total_ask_comments = 0\n",
    "\n",
    "for row in ask_posts:\n",
    "    comments = int(row[4])\n",
    "    total_ask_comments += comments\n",
    "    \n",
    "avg_ask_comments = total_ask_comments/len(ask_posts)"
   ]
  },
  {
   "cell_type": "code",
   "execution_count": 14,
   "metadata": {},
   "outputs": [],
   "source": [
    "total_show_comments = 0\n",
    "\n",
    "for row in show_posts:\n",
    "    comments = int(row[4])\n",
    "    total_show_comments += comments\n",
    "    \n",
    "avg_show_comments = total_show_comments/len(show_posts)"
   ]
  },
  {
   "cell_type": "code",
   "execution_count": 15,
   "metadata": {},
   "outputs": [
    {
     "name": "stdout",
     "output_type": "stream",
     "text": [
      "Average Ask comments are  14.038417431192661\n",
      "Average show comments are  10.31669535283993\n"
     ]
    }
   ],
   "source": [
    "print(\"Average Ask comments are \",avg_ask_comments)\n",
    "print(\"Average show comments are \",avg_show_comments)"
   ]
  },
  {
   "cell_type": "markdown",
   "metadata": {},
   "source": [
    "- Average ask comments are higher than show comments\n",
    "- This means users are more interested in asking the questions to the community.\n",
    "- Also there isn't not much of a difference between average ask(14) and show comments(10).\n",
    "- We will determine if ask posts receive more comments created at a particular time."
   ]
  },
  {
   "cell_type": "code",
   "execution_count": 18,
   "metadata": {},
   "outputs": [
    {
     "data": {
      "text/plain": [
       "[['8/16/2016 9:55', '6'],\n",
       " ['11/22/2015 13:43', '29'],\n",
       " ['5/2/2016 10:14', '1'],\n",
       " ['8/2/2016 14:20', '3'],\n",
       " ['10/15/2015 16:38', '17']]"
      ]
     },
     "execution_count": 18,
     "metadata": {},
     "output_type": "execute_result"
    }
   ],
   "source": [
    "result_list = []\n",
    "\n",
    "for row in ask_posts:\n",
    "    created_list = []\n",
    "    created_list.append(row[-1])\n",
    "    created_list.append(row[4])\n",
    "    result_list.append(created_list)\n",
    "    \n",
    "result_list[:5]"
   ]
  },
  {
   "cell_type": "code",
   "execution_count": 19,
   "metadata": {},
   "outputs": [],
   "source": [
    "import datetime as dt"
   ]
  },
  {
   "cell_type": "code",
   "execution_count": 25,
   "metadata": {},
   "outputs": [
    {
     "name": "stdout",
     "output_type": "stream",
     "text": [
      "{'09': 45, '13': 85, '10': 59, '14': 107, '16': 108, '23': 68, '12': 73, '17': 100, '15': 116, '21': 109, '20': 80, '02': 58, '18': 109, '03': 54, '05': 46, '19': 110, '01': 60, '22': 71, '08': 48, '04': 47, '00': 55, '06': 44, '07': 34, '11': 58}\n",
      "{'09': 251, '13': 1253, '10': 793, '14': 1416, '16': 1814, '23': 543, '12': 687, '17': 1146, '15': 4477, '21': 1745, '20': 1722, '02': 1381, '18': 1439, '03': 421, '05': 464, '19': 1188, '01': 683, '22': 479, '08': 492, '04': 337, '00': 447, '06': 397, '07': 267, '11': 641}\n"
     ]
    }
   ],
   "source": [
    "counts_by_hour = {}\n",
    "comments_by_hour = {}\n",
    "\n",
    "for row in result_list:\n",
    "    created_at = row[0]\n",
    "    comments = int(row[1])\n",
    "    modified_date = dt.datetime.strptime(created_at,\"%m/%d/%Y %H:%M\")\n",
    "    modified_time = modified_date.strftime(\"%H\")\n",
    "    if modified_time not in counts_by_hour:\n",
    "        counts_by_hour[modified_time] = 1\n",
    "        comments_by_hour[modified_time] = comments\n",
    "    else:\n",
    "        counts_by_hour[modified_time] += 1\n",
    "        comments_by_hour[modified_time] += comments\n",
    "        \n",
    "print(counts_by_hour)\n",
    "print(comments_by_hour)"
   ]
  },
  {
   "cell_type": "code",
   "execution_count": 30,
   "metadata": {},
   "outputs": [
    {
     "data": {
      "text/plain": [
       "[['09', 5.5777777777777775],\n",
       " ['13', 14.741176470588234],\n",
       " ['10', 13.440677966101696],\n",
       " ['14', 13.233644859813085],\n",
       " ['16', 16.796296296296298],\n",
       " ['23', 7.985294117647059],\n",
       " ['12', 9.41095890410959],\n",
       " ['17', 11.46],\n",
       " ['15', 38.5948275862069],\n",
       " ['21', 16.009174311926607],\n",
       " ['20', 21.525],\n",
       " ['02', 23.810344827586206],\n",
       " ['18', 13.20183486238532],\n",
       " ['03', 7.796296296296297],\n",
       " ['05', 10.08695652173913],\n",
       " ['19', 10.8],\n",
       " ['01', 11.383333333333333],\n",
       " ['22', 6.746478873239437],\n",
       " ['08', 10.25],\n",
       " ['04', 7.170212765957447],\n",
       " ['00', 8.127272727272727],\n",
       " ['06', 9.022727272727273],\n",
       " ['07', 7.852941176470588],\n",
       " ['11', 11.051724137931034]]"
      ]
     },
     "execution_count": 30,
     "metadata": {},
     "output_type": "execute_result"
    }
   ],
   "source": [
    "avg_comments_per_hour = []\n",
    "\n",
    "for key in comments_by_hour:\n",
    "    avg_comments_per_hour.append([key,comments_by_hour[key]/counts_by_hour[key]])\n",
    "    \n",
    "avg_comments_per_hour"
   ]
  },
  {
   "cell_type": "code",
   "execution_count": 33,
   "metadata": {},
   "outputs": [],
   "source": [
    "swap_avg_per_hr = []\n",
    "\n",
    "for row in avg_comments_per_hour:\n",
    "    swap_avg_per_hr.append([row[1],row[0]])\n",
    "    \n",
    "sorted_swap = sorted(swap_avg_per_hr,reverse=True)\n"
   ]
  },
  {
   "cell_type": "code",
   "execution_count": 45,
   "metadata": {},
   "outputs": [
    {
     "name": "stdout",
     "output_type": "stream",
     "text": [
      "Top 5 Hours for Ask Posts Comments\n",
      "\n",
      "\n",
      "15:00:38.59 average comments per post\n",
      "02:00:23.81 average comments per post\n",
      "20:00:21.52 average comments per post\n",
      "16:00:16.80 average comments per post\n",
      "21:00:16.01 average comments per post\n"
     ]
    }
   ],
   "source": [
    "print(\"Top 5 Hours for Ask Posts Comments\")\n",
    "print(\"\\n\")\n",
    "\n",
    "for row in sorted_swap[:5]:\n",
    "    hour = row[1]\n",
    "    avg_comments = row[0]\n",
    "    modified_time = dt.datetime.strptime(hour,\"%H\").strftime(\"%H:%M\")\n",
    "    print(\"{0}:{1:.2f} average comments per post\".format(modified_time,avg_comments))\n",
    "\n",
    "    "
   ]
  },
  {
   "cell_type": "markdown",
   "metadata": {},
   "source": [
    "- Maximum number of average comments are received at 15:00 which are 38.59\n",
    "- Maximum number of average comments at 15:00 are almost 62% higher than those of at 02:00"
   ]
  },
  {
   "cell_type": "markdown",
   "metadata": {},
   "source": [
    "# CONCLUSION\n",
    "\n",
    "- We have analysed a dataset containing posts related to technical aspects in hacker news website\n",
    "- We wanted to know the posts that have got high comments among ask hn and show hn posts and came to know that ask hn posts have got more number of average comments\n",
    "- Also, To maximise the comments for ask_hn posts, users can create the ask posts at 15:00 hours which is eastern time in USA.(EST)\n",
    "- Locally its the same time 15:00 AST (in halifax) to create a post so that it receives more average number of posts."
   ]
  },
  {
   "cell_type": "markdown",
   "metadata": {},
   "source": [
    "# Further Analysis\n",
    "- To determine show or ask posts receive more points on average\n",
    "- Determine if posts received at certain time receive more points\n",
    "- compare avg number of comments and points"
   ]
  },
  {
   "cell_type": "code",
   "execution_count": 46,
   "metadata": {},
   "outputs": [
    {
     "data": {
      "text/plain": [
       "15.061926605504587"
      ]
     },
     "execution_count": 46,
     "metadata": {},
     "output_type": "execute_result"
    }
   ],
   "source": [
    "total_points_ask = 0\n",
    "\n",
    "for row in ask_posts:\n",
    "    points = int(row[3])\n",
    "    total_points_ask += points\n",
    "    \n",
    "avg_points_ask = total_points_ask/len(ask_posts)\n",
    "avg_points_ask"
   ]
  },
  {
   "cell_type": "code",
   "execution_count": 47,
   "metadata": {},
   "outputs": [
    {
     "data": {
      "text/plain": [
       "27.555077452667813"
      ]
     },
     "execution_count": 47,
     "metadata": {},
     "output_type": "execute_result"
    }
   ],
   "source": [
    "total_points_show = 0\n",
    "\n",
    "for row in show_posts:\n",
    "    points = int(row[3])\n",
    "    total_points_show += points\n",
    "    \n",
    "avg_points_show = total_points_show/len(show_posts)\n",
    "avg_points_show"
   ]
  },
  {
   "cell_type": "markdown",
   "metadata": {},
   "source": [
    "- Show posts have higher number of avg points comapred with ask posts.\n",
    "- Lets base our further analysis to know whether posts created at certain time receive more points on SHOW HN POSTS only"
   ]
  },
  {
   "cell_type": "code",
   "execution_count": 48,
   "metadata": {},
   "outputs": [],
   "source": [
    "result_list_points = []\n",
    "\n",
    "for row in show_posts:\n",
    "    result_list_points.append([row[-1],row[3]])"
   ]
  },
  {
   "cell_type": "code",
   "execution_count": 54,
   "metadata": {},
   "outputs": [
    {
     "name": "stdout",
     "output_type": "stream",
     "text": [
      "{'14': 86, '22': 46, '18': 61, '07': 26, '20': 60, '05': 19, '16': 93, '19': 55, '15': 78, '03': 27, '17': 93, '06': 16, '02': 30, '13': 99, '08': 34, '21': 47, '04': 26, '11': 44, '12': 61, '23': 36, '09': 30, '01': 28, '10': 36, '00': 31}\n"
     ]
    },
    {
     "data": {
      "text/plain": [
       "{'14': 2187,\n",
       " '22': 1856,\n",
       " '18': 2215,\n",
       " '07': 494,\n",
       " '20': 1819,\n",
       " '05': 104,\n",
       " '16': 2634,\n",
       " '19': 1702,\n",
       " '15': 2228,\n",
       " '03': 679,\n",
       " '17': 2521,\n",
       " '06': 375,\n",
       " '02': 340,\n",
       " '13': 2438,\n",
       " '08': 519,\n",
       " '21': 866,\n",
       " '04': 386,\n",
       " '11': 1480,\n",
       " '12': 2543,\n",
       " '23': 1526,\n",
       " '09': 553,\n",
       " '01': 700,\n",
       " '10': 681,\n",
       " '00': 1173}"
      ]
     },
     "execution_count": 54,
     "metadata": {},
     "output_type": "execute_result"
    }
   ],
   "source": [
    "points_count = {}\n",
    "hour_count = {}\n",
    "\n",
    "for row in result_list_points:\n",
    "    points = int(row[1])\n",
    "    date = row[0]\n",
    "    modified_date = dt.datetime.strptime(date,\"%m/%d/%Y %H:%M\")\n",
    "    modified_time = modified_date.strftime(\"%H\")\n",
    "    if modified_time in hour_count:\n",
    "        hour_count[modified_time] +=1\n",
    "        points_count[modified_time] += points\n",
    "    else :\n",
    "        hour_count[modified_time] =1\n",
    "        points_count[modified_time] = points\n",
    "        \n",
    "print(hour_count)\n",
    "points_count\n"
   ]
  },
  {
   "cell_type": "code",
   "execution_count": 55,
   "metadata": {},
   "outputs": [
    {
     "data": {
      "text/plain": [
       "[['14', 25.430232558139537],\n",
       " ['22', 40.34782608695652],\n",
       " ['18', 36.31147540983606],\n",
       " ['07', 19.0],\n",
       " ['20', 30.316666666666666],\n",
       " ['05', 5.473684210526316],\n",
       " ['16', 28.322580645161292],\n",
       " ['19', 30.945454545454545],\n",
       " ['15', 28.564102564102566],\n",
       " ['03', 25.14814814814815],\n",
       " ['17', 27.107526881720432],\n",
       " ['06', 23.4375],\n",
       " ['02', 11.333333333333334],\n",
       " ['13', 24.626262626262626],\n",
       " ['08', 15.264705882352942],\n",
       " ['21', 18.425531914893618],\n",
       " ['04', 14.846153846153847],\n",
       " ['11', 33.63636363636363],\n",
       " ['12', 41.68852459016394],\n",
       " ['23', 42.388888888888886],\n",
       " ['09', 18.433333333333334],\n",
       " ['01', 25.0],\n",
       " ['10', 18.916666666666668],\n",
       " ['00', 37.83870967741935]]"
      ]
     },
     "execution_count": 55,
     "metadata": {},
     "output_type": "execute_result"
    }
   ],
   "source": [
    "avg_points_count = []\n",
    "\n",
    "for key in hour_count:\n",
    "    avg_points_count.append([key,points_count[key]/hour_count[key]])\n",
    "    \n",
    "avg_points_count\n",
    "    "
   ]
  },
  {
   "cell_type": "code",
   "execution_count": 57,
   "metadata": {},
   "outputs": [
    {
     "data": {
      "text/plain": [
       "[[42.388888888888886, '23'],\n",
       " [41.68852459016394, '12'],\n",
       " [40.34782608695652, '22'],\n",
       " [37.83870967741935, '00'],\n",
       " [36.31147540983606, '18'],\n",
       " [33.63636363636363, '11'],\n",
       " [30.945454545454545, '19'],\n",
       " [30.316666666666666, '20'],\n",
       " [28.564102564102566, '15'],\n",
       " [28.322580645161292, '16'],\n",
       " [27.107526881720432, '17'],\n",
       " [25.430232558139537, '14'],\n",
       " [25.14814814814815, '03'],\n",
       " [25.0, '01'],\n",
       " [24.626262626262626, '13'],\n",
       " [23.4375, '06'],\n",
       " [19.0, '07'],\n",
       " [18.916666666666668, '10'],\n",
       " [18.433333333333334, '09'],\n",
       " [18.425531914893618, '21'],\n",
       " [15.264705882352942, '08'],\n",
       " [14.846153846153847, '04'],\n",
       " [11.333333333333334, '02'],\n",
       " [5.473684210526316, '05']]"
      ]
     },
     "execution_count": 57,
     "metadata": {},
     "output_type": "execute_result"
    }
   ],
   "source": [
    "swap_points_list = []\n",
    "\n",
    "for row in avg_points_count:\n",
    "    swap_points_list.append([row[1],row[0]])\n",
    "    \n",
    "sorted_points_list = sorted(swap_points_list,reverse=True)\n",
    "\n",
    "sorted_points_list"
   ]
  },
  {
   "cell_type": "markdown",
   "metadata": {},
   "source": [
    "# Conclusion\n",
    "\n",
    "- Average points are higher when show posts are created at 23:00 hours\n",
    "- Average points are approximately 42 at 23:00 hours which are almost equal when post is made at 12 noon.\n",
    "- Inface 23:00,12 noon and 22:00 follow closely."
   ]
  }
 ],
 "metadata": {
  "kernelspec": {
   "display_name": "Python 3",
   "language": "python",
   "name": "python3"
  },
  "language_info": {
   "codemirror_mode": {
    "name": "ipython",
    "version": 3
   },
   "file_extension": ".py",
   "mimetype": "text/x-python",
   "name": "python",
   "nbconvert_exporter": "python",
   "pygments_lexer": "ipython3",
   "version": "3.8.3"
  }
 },
 "nbformat": 4,
 "nbformat_minor": 4
}
